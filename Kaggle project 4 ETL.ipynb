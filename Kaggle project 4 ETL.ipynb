{
 "cells": [
  {
   "cell_type": "markdown",
   "metadata": {
    "_cell_guid": "b1076dfc-b9ad-4769-8c92-a6c4dae69d19",
    "_uuid": "8f2839f25d086af736a60e9eeb907d3b93b6e0e5"
   },
   "source": [
    "# Diabetes Health Indicators Dataset Notebook\n",
    "\n",
    "## Purpose\n",
    "The purpose of this code notebook is to clean BRFSS data into a useable format for machine learning alogrithms. \n",
    "The dataset originally has 330 features (columns), but based on diabetes disease research regarding factors influencing diabetes disease and other chronic health conditions, only select features are included in this analysis.\n",
    "\n",
    "## Link to Dataset Output [Diabetes Health Indicators Dataset](https://www.kaggle.com/alexteboul/diabetes-health-indicators-dataset)\n",
    "**253,680 survey responses from cleaned BRFSS 2015 - binary classification**\n",
    "\n",
    "#### Important Risk Factors\n",
    "Research in the field has identified the following as **important risk factors** for diabetes and other chronic illnesses like heart disease (not in strict order of importance):\n",
    "\n",
    "*   blood pressure (high)\n",
    "*   cholesterol (high)\n",
    "*   smoking\n",
    "*   diabetes\n",
    "*   obesity\n",
    "*   age\n",
    "*   sex\n",
    "*   race\n",
    "*   diet\n",
    "*   exercise\n",
    "*   alcohol consumption\n",
    "*   BMI\n",
    "*   Household Income\n",
    "*   Marital Status\n",
    "*   Sleep\n",
    "*   Time since last checkup\n",
    "*   Education\n",
    "*   Health care coverage\n",
    "*   Mental Health"
   ]
  },
  {
   "cell_type": "markdown",
   "metadata": {},
   "source": [
    "### Selected Subset of Features from BRFSS 2015\n",
    "Given these risk factors, I tried to select features (columns/questions) in the BRFSS related to these risk factors. To help understand what the columns mean, I consult the BRFSS 2015 Codebook to see the questions and information about the questions. I try to match the variable names in the codebook to the variable names in the dataset I downloaded from Kaggle. I also reference some of the same features chosen for a research paper by Zidian Xie et al for *Building Risk Prediction Models for Type 2 Diabetes Using Machine Learning Techniques* using the 2014 BRFSS.\n",
    "\n",
    "**BRFSS 2015 Codebook:** https://www.cdc.gov/brfss/annual_data/2015/pdf/codebook15_llcp.pdf\n",
    "\n",
    "**Relevant Research Paper using BRFSS for Diabetes ML:** https://www.cdc.gov/pcd/issues/2019/19_0109.htm\n",
    "\n",
    "\n",
    "The **selected features** from the BRFSS 2015 dataset are:\n",
    "\n",
    "**Response Variable / Dependent Variable:**\n",
    "*   (Ever told) you have diabetes (If \"Yes\" and respondent is female, ask \"Was this only when you were pregnant?\". If Respondent says pre-diabetes or borderline diabetes, use response code 4.) --> DIABETE3\n",
    "\n",
    "**Independent Variables:**\n",
    "\n",
    "**High Blood Pressure**\n",
    "*   Adults who have been told they have high blood pressure by a doctor, nurse, or other health professional --> _RFHYPE5\n",
    "\n",
    "**High Cholesterol**\n",
    "*   Have you EVER been told by a doctor, nurse or other health professional that your blood cholesterol is high? --> TOLDHI2\n",
    "*   Cholesterol check within past five years --> _CHOLCHK\n",
    "\n",
    "**BMI**\n",
    "*   Body Mass Index (BMI) --> _BMI5\n",
    "\n",
    "**Smoking**\n",
    "*   Have you smoked at least 100 cigarettes in your entire life? [Note: 5 packs = 100 cigarettes] --> SMOKE100\n",
    "\n",
    "**Other Chronic Health Conditions**\n",
    "*   (Ever told) you had a stroke. --> CVDSTRK3\n",
    "*   Respondents that have ever reported having coronary heart disease (CHD) or myocardial infarction (MI) --> _MICHD\n",
    "\n",
    "**Physical Activity**\n",
    "*   Adults who reported doing physical activity or exercise during the past 30 days other than their regular job --> _TOTINDA\n",
    "\n",
    "**Diet**\n",
    "*   Consume Fruit 1 or more times per day --> _FRTLT1\n",
    "*   Consume Vegetables 1 or more times per day --> _VEGLT1\n",
    "\n",
    "**Alcohol Consumption**\n",
    "*   Heavy drinkers (adult men having more than 14 drinks per week and adult women having more than 7 drinks per week) --> _RFDRHV5\n",
    "\n",
    "**Health Care**\n",
    "*   Do you have any kind of health care coverage, including health insurance, prepaid plans such as HMOs, or government plans such as Medicare, or Indian Health Service?  --> HLTHPLN1\n",
    "*   Was there a time in the past 12 months when you needed to see a doctor but could not because of cost? --> MEDCOST\n",
    "\n",
    "**Health General and Mental Health**\n",
    "*   Would you say that in general your health is: --> GENHLTH\n",
    "*   Now thinking about your mental health, which includes stress, depression, and problems with emotions, for how many days during the past 30 days was your mental health not good? --> MENTHLTH\n",
    "*   Now thinking about your physical health, which includes physical illness and injury, for how many days during the past 30 days was your physical health not good? --> PHYSHLTH\n",
    "*   Do you have serious difficulty walking or climbing stairs? --> DIFFWALK\n",
    "\n",
    "**Demographics**\n",
    "*   Indicate sex of respondent. --> SEX\n",
    "*   Fourteen-level age category --> _AGEG5YR\n",
    "*   What is the highest grade or year of school you completed? --> EDUCA\n",
    "*   Is your annual household income from all sources: (If respondent refuses at any income level, code \"Refused.\") --> INCOME2"
   ]
  },
  {
   "cell_type": "markdown",
   "metadata": {},
   "source": [
    "## 1. Get the data"
   ]
  },
  {
   "cell_type": "code",
   "execution_count": 1,
   "metadata": {
    "execution": {
     "iopub.execute_input": "2023-09-07T18:10:23.704655Z",
     "iopub.status.busy": "2023-09-07T18:10:23.704297Z",
     "iopub.status.idle": "2023-09-07T18:10:23.739032Z",
     "shell.execute_reply": "2023-09-07T18:10:23.737683Z",
     "shell.execute_reply.started": "2023-09-07T18:10:23.704563Z"
    }
   },
   "outputs": [],
   "source": [
    "#imports\n",
    "import os\n",
    "import pandas as pd\n",
    "import numpy as np\n",
    "import random\n",
    "random.seed(1)"
   ]
  },
  {
   "cell_type": "code",
   "execution_count": 26,
   "metadata": {},
   "outputs": [
    {
     "name": "stdout",
     "output_type": "stream",
     "text": [
      "C:\\Users\\noah.lemunyon\\OneDrive - Techdow USA Inc\\Desktop\\School\\Module 23 - Project 4\n"
     ]
    }
   ],
   "source": [
    "current_directory = os.getcwd()\n",
    "ed = os.getcwd()\n",
    "print(ed)"
   ]
  },
  {
   "cell_type": "code",
   "execution_count": 17,
   "metadata": {
    "execution": {
     "iopub.execute_input": "2023-09-07T18:10:23.746267Z",
     "iopub.status.busy": "2023-09-07T18:10:23.740920Z"
    }
   },
   "outputs": [
    {
     "ename": "SyntaxError",
     "evalue": "unmatched ')' (455189553.py, line 1)",
     "output_type": "error",
     "traceback": [
      "\u001b[1;36m  Cell \u001b[1;32mIn[17], line 1\u001b[1;36m\u001b[0m\n\u001b[1;33m    )#read in the dataset (select 2015)\u001b[0m\n\u001b[1;37m    ^\u001b[0m\n\u001b[1;31mSyntaxError\u001b[0m\u001b[1;31m:\u001b[0m unmatched ')'\n"
     ]
    }
   ],
   "source": [
    ")#read in the dataset (select 2015)\n",
    "year = '2015'\n",
    "brfss_2015_dataset = pd.read_csv(f'./Input/2015.csv')"
   ]
  },
  {
   "cell_type": "code",
   "execution_count": null,
   "metadata": {},
   "outputs": [],
   "source": [
    "#How many rows and columns\n",
    "brfss_2015_dataset.shape"
   ]
  },
  {
   "cell_type": "code",
   "execution_count": null,
   "metadata": {},
   "outputs": [],
   "source": [
    "#check that the data loaded in is in the correct format\n",
    "pd.set_option('display.max_columns', 500)\n",
    "brfss_2015_dataset.head()"
   ]
  },
  {
   "cell_type": "markdown",
   "metadata": {},
   "source": [
    "**At this point we have 441,456 records and 330 columns. Each record contains an individual's BRFSS survey responses.**"
   ]
  },
  {
   "cell_type": "code",
   "execution_count": null,
   "metadata": {},
   "outputs": [],
   "source": [
    "# select specific columns\n",
    "brfss_df_selected = brfss_2015_dataset[['DIABETE3',\n",
    "                                         '_RFHYPE5',  \n",
    "                                         'TOLDHI2', '_CHOLCHK', \n",
    "                                         '_BMI5', \n",
    "                                         'SMOKE100', \n",
    "                                         'CVDSTRK3', '_MICHD', \n",
    "                                         '_TOTINDA', \n",
    "                                         '_FRTLT1', '_VEGLT1', \n",
    "                                         '_RFDRHV5', \n",
    "                                         'HLTHPLN1', 'MEDCOST', \n",
    "                                         'GENHLTH', 'MENTHLTH', 'PHYSHLTH', 'DIFFWALK', \n",
    "                                         'SEX', '_AGEG5YR', 'EDUCA', 'INCOME2' ]]"
   ]
  },
  {
   "cell_type": "code",
   "execution_count": null,
   "metadata": {},
   "outputs": [],
   "source": [
    "brfss_df_selected.shape"
   ]
  },
  {
   "cell_type": "code",
   "execution_count": null,
   "metadata": {},
   "outputs": [],
   "source": [
    "brfss_df_selected.head()"
   ]
  },
  {
   "cell_type": "markdown",
   "metadata": {},
   "source": [
    "## 2. Clean the data"
   ]
  },
  {
   "cell_type": "markdown",
   "metadata": {},
   "source": [
    "### 2.1 Drop missing values"
   ]
  },
  {
   "cell_type": "code",
   "execution_count": null,
   "metadata": {},
   "outputs": [],
   "source": [
    "#Drop Missing Values - knocks 100,000 rows out right away\n",
    "brfss_df_selected = brfss_df_selected.dropna()\n",
    "brfss_df_selected.shape"
   ]
  },
  {
   "cell_type": "markdown",
   "metadata": {},
   "source": [
    "### 2.2 Modify and clean the values to be more suitable to ML algorithms\n",
    "In order to do this part, I referenced the codebook which says what each column/feature/question is: https://www.cdc.gov/brfss/annual_data/2015/pdf/codebook15_llcp.pdf"
   ]
  },
  {
   "cell_type": "code",
   "execution_count": null,
   "metadata": {},
   "outputs": [],
   "source": [
    "# DIABETE3\n",
    "# going to make this ordinal. 0 is for no diabetes or only during pregnancy, 1 is for pre-diabetes or borderline diabetes, 2 is for yes diabetes\n",
    "# Remove all 7 (dont knows)\n",
    "# Remove all 9 (refused)\n",
    "brfss_df_selected['DIABETE3'] = brfss_df_selected['DIABETE3'].replace({2:0, 3:0, 1:2, 4:1})\n",
    "brfss_df_selected = brfss_df_selected[brfss_df_selected.DIABETE3 != 7]\n",
    "brfss_df_selected = brfss_df_selected[brfss_df_selected.DIABETE3 != 9]\n",
    "brfss_df_selected.DIABETE3.unique()"
   ]
  },
  {
   "cell_type": "code",
   "execution_count": null,
   "metadata": {},
   "outputs": [],
   "source": [
    "#1 _RFHYPE5\n",
    "#Change 1 to 0 so it represetnts No high blood pressure and 2 to 1 so it represents high blood pressure\n",
    "brfss_df_selected['_RFHYPE5'] = brfss_df_selected['_RFHYPE5'].replace({1:0, 2:1})\n",
    "brfss_df_selected = brfss_df_selected[brfss_df_selected._RFHYPE5 != 9]\n",
    "brfss_df_selected._RFHYPE5.unique()"
   ]
  },
  {
   "cell_type": "code",
   "execution_count": null,
   "metadata": {},
   "outputs": [],
   "source": [
    "#2 TOLDHI2\n",
    "# Change 2 to 0 because it is No\n",
    "# Remove all 7 (dont knows)\n",
    "# Remove all 9 (refused)\n",
    "brfss_df_selected['TOLDHI2'] = brfss_df_selected['TOLDHI2'].replace({2:0})\n",
    "brfss_df_selected = brfss_df_selected[brfss_df_selected.TOLDHI2 != 7]\n",
    "brfss_df_selected = brfss_df_selected[brfss_df_selected.TOLDHI2 != 9]\n",
    "brfss_df_selected.TOLDHI2.unique()"
   ]
  },
  {
   "cell_type": "code",
   "execution_count": null,
   "metadata": {},
   "outputs": [],
   "source": [
    "#3 _CHOLCHK\n",
    "# Change 3 to 0 and 2 to 0 for Not checked cholesterol in past 5 years\n",
    "# Remove 9\n",
    "brfss_df_selected['_CHOLCHK'] = brfss_df_selected['_CHOLCHK'].replace({3:0,2:0})\n",
    "brfss_df_selected = brfss_df_selected[brfss_df_selected._CHOLCHK != 9]\n",
    "brfss_df_selected._CHOLCHK.unique()"
   ]
  },
  {
   "cell_type": "code",
   "execution_count": null,
   "metadata": {},
   "outputs": [],
   "source": [
    "#4 _BMI5 (no changes, just note that these are BMI * 100. So for example a BMI of 4018 is really 40.18)\n",
    "brfss_df_selected['_BMI5'] = brfss_df_selected['_BMI5'].div(100).round(0)\n",
    "brfss_df_selected._BMI5.unique()"
   ]
  },
  {
   "cell_type": "code",
   "execution_count": null,
   "metadata": {},
   "outputs": [],
   "source": [
    "#5 SMOKE100\n",
    "# Change 2 to 0 because it is No\n",
    "# Remove all 7 (dont knows)\n",
    "# Remove all 9 (refused)\n",
    "brfss_df_selected['SMOKE100'] = brfss_df_selected['SMOKE100'].replace({2:0})\n",
    "brfss_df_selected = brfss_df_selected[brfss_df_selected.SMOKE100 != 7]\n",
    "brfss_df_selected = brfss_df_selected[brfss_df_selected.SMOKE100 != 9]\n",
    "brfss_df_selected.SMOKE100.unique()"
   ]
  },
  {
   "cell_type": "code",
   "execution_count": null,
   "metadata": {},
   "outputs": [],
   "source": [
    "#6 CVDSTRK3\n",
    "# Change 2 to 0 because it is No\n",
    "# Remove all 7 (dont knows)\n",
    "# Remove all 9 (refused)\n",
    "brfss_df_selected['CVDSTRK3'] = brfss_df_selected['CVDSTRK3'].replace({2:0})\n",
    "brfss_df_selected = brfss_df_selected[brfss_df_selected.CVDSTRK3 != 7]\n",
    "brfss_df_selected = brfss_df_selected[brfss_df_selected.CVDSTRK3 != 9]\n",
    "brfss_df_selected.CVDSTRK3.unique()"
   ]
  },
  {
   "cell_type": "code",
   "execution_count": null,
   "metadata": {},
   "outputs": [],
   "source": [
    "#7 _MICHD\n",
    "#Change 2 to 0 because this means did not have MI or CHD\n",
    "brfss_df_selected['_MICHD'] = brfss_df_selected['_MICHD'].replace({2: 0})\n",
    "brfss_df_selected._MICHD.unique()"
   ]
  },
  {
   "cell_type": "code",
   "execution_count": null,
   "metadata": {},
   "outputs": [],
   "source": [
    "#8 _TOTINDA\n",
    "# 1 for physical activity\n",
    "# change 2 to 0 for no physical activity\n",
    "# Remove all 9 (don't know/refused)\n",
    "brfss_df_selected['_TOTINDA'] = brfss_df_selected['_TOTINDA'].replace({2:0})\n",
    "brfss_df_selected = brfss_df_selected[brfss_df_selected._TOTINDA != 9]\n",
    "brfss_df_selected._TOTINDA.unique()"
   ]
  },
  {
   "cell_type": "code",
   "execution_count": null,
   "metadata": {},
   "outputs": [],
   "source": [
    "#9 _FRTLT1\n",
    "# Change 2 to 0. this means no fruit consumed per day. 1 will mean consumed 1 or more pieces of fruit per day \n",
    "# remove all dont knows and missing 9\n",
    "brfss_df_selected['_FRTLT1'] = brfss_df_selected['_FRTLT1'].replace({2:0})\n",
    "brfss_df_selected = brfss_df_selected[brfss_df_selected._FRTLT1 != 9]\n",
    "brfss_df_selected._FRTLT1.unique()"
   ]
  },
  {
   "cell_type": "code",
   "execution_count": null,
   "metadata": {},
   "outputs": [],
   "source": [
    "#10 _VEGLT1\n",
    "# Change 2 to 0. this means no vegetables consumed per day. 1 will mean consumed 1 or more pieces of vegetable per day \n",
    "# remove all dont knows and missing 9\n",
    "brfss_df_selected['_VEGLT1'] = brfss_df_selected['_VEGLT1'].replace({2:0})\n",
    "brfss_df_selected = brfss_df_selected[brfss_df_selected._VEGLT1 != 9]\n",
    "brfss_df_selected._VEGLT1.unique()"
   ]
  },
  {
   "cell_type": "code",
   "execution_count": null,
   "metadata": {},
   "outputs": [],
   "source": [
    "#11 _RFDRHV5\n",
    "# Change 1 to 0 (1 was no for heavy drinking). change all 2 to 1 (2 was yes for heavy drinking)\n",
    "# remove all dont knows and missing 9\n",
    "brfss_df_selected['_RFDRHV5'] = brfss_df_selected['_RFDRHV5'].replace({1:0, 2:1})\n",
    "brfss_df_selected = brfss_df_selected[brfss_df_selected._RFDRHV5 != 9]\n",
    "brfss_df_selected._RFDRHV5.unique()"
   ]
  },
  {
   "cell_type": "code",
   "execution_count": null,
   "metadata": {},
   "outputs": [],
   "source": [
    "#12 HLTHPLN1\n",
    "# 1 is yes, change 2 to 0 because it is No health care access\n",
    "# remove 7 and 9 for don't know or refused\n",
    "brfss_df_selected['HLTHPLN1'] = brfss_df_selected['HLTHPLN1'].replace({2:0})\n",
    "brfss_df_selected = brfss_df_selected[brfss_df_selected.HLTHPLN1 != 7]\n",
    "brfss_df_selected = brfss_df_selected[brfss_df_selected.HLTHPLN1 != 9]\n",
    "brfss_df_selected.HLTHPLN1.unique()"
   ]
  },
  {
   "cell_type": "code",
   "execution_count": null,
   "metadata": {},
   "outputs": [],
   "source": [
    "#13 MEDCOST\n",
    "# Change 2 to 0 for no, 1 is already yes\n",
    "# remove 7 for don/t know and 9 for refused\n",
    "brfss_df_selected['MEDCOST'] = brfss_df_selected['MEDCOST'].replace({2:0})\n",
    "brfss_df_selected = brfss_df_selected[brfss_df_selected.MEDCOST != 7]\n",
    "brfss_df_selected = brfss_df_selected[brfss_df_selected.MEDCOST != 9]\n",
    "brfss_df_selected.MEDCOST.unique()"
   ]
  },
  {
   "cell_type": "code",
   "execution_count": null,
   "metadata": {},
   "outputs": [],
   "source": [
    "#14 GENHLTH\n",
    "# This is an ordinal variable that I want to keep (1 is Excellent -> 5 is Poor)\n",
    "# Remove 7 and 9 for don't know and refused\n",
    "brfss_df_selected = brfss_df_selected[brfss_df_selected.GENHLTH != 7]\n",
    "brfss_df_selected = brfss_df_selected[brfss_df_selected.GENHLTH != 9]\n",
    "brfss_df_selected.GENHLTH.unique()"
   ]
  },
  {
   "cell_type": "code",
   "execution_count": null,
   "metadata": {},
   "outputs": [],
   "source": [
    "#15 MENTHLTH\n",
    "# already in days so keep that, scale will be 0-30\n",
    "# change 88 to 0 because it means none (no bad mental health days)\n",
    "# remove 77 and 99 for don't know not sure and refused\n",
    "brfss_df_selected['MENTHLTH'] = brfss_df_selected['MENTHLTH'].replace({88:0})\n",
    "brfss_df_selected = brfss_df_selected[brfss_df_selected.MENTHLTH != 77]\n",
    "brfss_df_selected = brfss_df_selected[brfss_df_selected.MENTHLTH != 99]\n",
    "brfss_df_selected.MENTHLTH.unique()"
   ]
  },
  {
   "cell_type": "code",
   "execution_count": null,
   "metadata": {},
   "outputs": [],
   "source": [
    "#16 PHYSHLTH\n",
    "# already in days so keep that, scale will be 0-30\n",
    "# change 88 to 0 because it means none (no bad mental health days)\n",
    "# remove 77 and 99 for don't know not sure and refused\n",
    "brfss_df_selected['PHYSHLTH'] = brfss_df_selected['PHYSHLTH'].replace({88:0})\n",
    "brfss_df_selected = brfss_df_selected[brfss_df_selected.PHYSHLTH != 77]\n",
    "brfss_df_selected = brfss_df_selected[brfss_df_selected.PHYSHLTH != 99]\n",
    "brfss_df_selected.PHYSHLTH.unique()"
   ]
  },
  {
   "cell_type": "code",
   "execution_count": null,
   "metadata": {},
   "outputs": [],
   "source": [
    "#17 DIFFWALK\n",
    "# change 2 to 0 for no. 1 is already yes\n",
    "# remove 7 and 9 for don't know not sure and refused\n",
    "brfss_df_selected['DIFFWALK'] = brfss_df_selected['DIFFWALK'].replace({2:0})\n",
    "brfss_df_selected = brfss_df_selected[brfss_df_selected.DIFFWALK != 7]\n",
    "brfss_df_selected = brfss_df_selected[brfss_df_selected.DIFFWALK != 9]\n",
    "brfss_df_selected.DIFFWALK.unique()"
   ]
  },
  {
   "cell_type": "code",
   "execution_count": null,
   "metadata": {},
   "outputs": [],
   "source": [
    "#18 SEX\n",
    "# in other words - is respondent male (somewhat arbitrarily chose this change because men are at higher risk for heart disease)\n",
    "# change 2 to 0 (female as 0). Male is 1\n",
    "brfss_df_selected['SEX'] = brfss_df_selected['SEX'].replace({2:0})\n",
    "brfss_df_selected.SEX.unique()"
   ]
  },
  {
   "cell_type": "code",
   "execution_count": null,
   "metadata": {},
   "outputs": [],
   "source": [
    "#19 _AGEG5YR\n",
    "# already ordinal. 1 is 18-24 all the way up to 13 wis 80 and older. 5 year increments.\n",
    "# remove 14 because it is don't know or missing\n",
    "brfss_df_selected = brfss_df_selected[brfss_df_selected._AGEG5YR != 14]\n",
    "brfss_df_selected._AGEG5YR.unique()"
   ]
  },
  {
   "cell_type": "code",
   "execution_count": null,
   "metadata": {},
   "outputs": [],
   "source": [
    "#20 EDUCA\n",
    "# This is already an ordinal variable with 1 being never attended school or kindergarten only up to 6 being college 4 years or more\n",
    "# Scale here is 1-6\n",
    "# Remove 9 for refused:\n",
    "brfss_df_selected = brfss_df_selected[brfss_df_selected.EDUCA != 9]\n",
    "brfss_df_selected.EDUCA.unique()"
   ]
  },
  {
   "cell_type": "code",
   "execution_count": null,
   "metadata": {},
   "outputs": [],
   "source": [
    "#21 INCOME2\n",
    "# Variable is already ordinal with 1 being less than $10,000 all the way up to 8 being $75,000 or more\n",
    "# Remove 77 and 99 for don't know and refused\n",
    "brfss_df_selected = brfss_df_selected[brfss_df_selected.INCOME2 != 77]\n",
    "brfss_df_selected = brfss_df_selected[brfss_df_selected.INCOME2 != 99]\n",
    "brfss_df_selected.INCOME2.unique()"
   ]
  },
  {
   "cell_type": "code",
   "execution_count": null,
   "metadata": {},
   "outputs": [],
   "source": [
    "#Check the shape of the dataset now: We have 253,680 cleaned rows and 22 columns (1 of which is our dependent variable)\n",
    "brfss_df_selected.shape"
   ]
  },
  {
   "cell_type": "code",
   "execution_count": null,
   "metadata": {},
   "outputs": [],
   "source": [
    "#Let's see what the data looks like after Modifying Values\n",
    "brfss_df_selected.head()"
   ]
  },
  {
   "cell_type": "code",
   "execution_count": null,
   "metadata": {},
   "outputs": [],
   "source": [
    "#Check Class Sizes of the heart disease column\n",
    "brfss_df_selected.groupby(['DIABETE3']).size()"
   ]
  },
  {
   "cell_type": "markdown",
   "metadata": {},
   "source": [
    "## 3. Make feature names more readable"
   ]
  },
  {
   "cell_type": "code",
   "execution_count": null,
   "metadata": {},
   "outputs": [],
   "source": [
    "#Rename the columns to make them more readable\n",
    "brfss = brfss_df_selected.rename(columns = {'DIABETE3':'Diabetes_012', \n",
    "                                         '_RFHYPE5':'HighBP',  \n",
    "                                         'TOLDHI2':'HighChol', '_CHOLCHK':'CholCheck', \n",
    "                                         '_BMI5':'BMI', \n",
    "                                         'SMOKE100':'Smoker', \n",
    "                                         'CVDSTRK3':'Stroke', '_MICHD':'HeartDiseaseorAttack', \n",
    "                                         '_TOTINDA':'PhysActivity', \n",
    "                                         '_FRTLT1':'Fruits', '_VEGLT1':\"Veggies\", \n",
    "                                         '_RFDRHV5':'HvyAlcoholConsump', \n",
    "                                         'HLTHPLN1':'AnyHealthcare', 'MEDCOST':'NoDocbcCost', \n",
    "                                         'GENHLTH':'GenHlth', 'MENTHLTH':'MentHlth', 'PHYSHLTH':'PhysHlth', 'DIFFWALK':'DiffWalk', \n",
    "                                         'SEX':'Sex', '_AGEG5YR':'Age', 'EDUCA':'Education', 'INCOME2':'Income' })"
   ]
  },
  {
   "cell_type": "code",
   "execution_count": null,
   "metadata": {},
   "outputs": [],
   "source": [
    "brfss.head()"
   ]
  },
  {
   "cell_type": "code",
   "execution_count": null,
   "metadata": {},
   "outputs": [],
   "source": [
    "brfss.shape"
   ]
  },
  {
   "cell_type": "code",
   "execution_count": null,
   "metadata": {},
   "outputs": [],
   "source": [
    "#Check how many respondents have no diabetes, prediabetes or diabetes. Note the class imbalance!\n",
    "brfss.groupby(['Diabetes_012']).size()"
   ]
  },
  {
   "cell_type": "markdown",
   "metadata": {},
   "source": [
    "## 4. Save to csv\n",
    "First save version where diabetes is the target variable and in the first column. This is the full cleaned dataset with prediabetes still there."
   ]
  },
  {
   "cell_type": "code",
   "execution_count": null,
   "metadata": {},
   "outputs": [],
   "source": [
    "#************************************************************************************************\n",
    "brfss.to_csv('diabetes_012_health_indicators_BRFSS2015.csv', sep=\",\", index=False)\n",
    "#************************************************************************************************"
   ]
  },
  {
   "cell_type": "markdown",
   "metadata": {},
   "source": [
    "## 5. Create Binary Dataset for diabetes vs. no diabetes\n",
    "*  If we want to do binary classification of diabtes vs no diabetes that can be accomplished by either joining the prediabetics with the diabetics, with the non-diabetics, or removing them entirely. I would like to add them to the diabetic group, as being told by a doctor you are prediabetic is an indication of diabetes risk and ultimately we are interested in risk.\n",
    "* While we're at it, we can make the dataset balanced in a 50-50 split of non-diabetics to diabetics and prediabetics. There are a sufficient number of records to do this randomly and yield predictive results. There are 4631 (pre-diabetes) + 35346 (diabetes) so we can make a new 50-50 binary dataset of 39,977 diabetic risk individuals to 39,977 randomly selected non-diabetics.\n",
    "* Note that because it is a survey it is always possible (actually likely) that some individuals will not have been diagnosed yet but are either pre-diabetic or diabetic."
   ]
  },
  {
   "cell_type": "code",
   "execution_count": null,
   "metadata": {},
   "outputs": [],
   "source": [
    "#Copy old table to new one.\n",
    "brfss_binary = brfss\n",
    "#Change the diabetics 2 to a 1 and pre-diabetics 1 to a 0, so that we have 0 meaning non-diabetic and pre-diabetic and 1 meaning diabetic.\n",
    "brfss_binary['Diabetes_012'] = brfss_binary['Diabetes_012'].replace({1:0})\n",
    "brfss_binary['Diabetes_012'] = brfss_binary['Diabetes_012'].replace({2:1})\n",
    "\n",
    "#Change the column name to Diabetes_binary\n",
    "brfss_binary = brfss_binary.rename(columns = {'Diabetes_012': 'Diabetes_binary'})\n",
    "brfss_binary.Diabetes_binary.unique()"
   ]
  },
  {
   "cell_type": "code",
   "execution_count": null,
   "metadata": {},
   "outputs": [],
   "source": [
    "#Show the change\n",
    "brfss_binary.head()"
   ]
  },
  {
   "cell_type": "code",
   "execution_count": null,
   "metadata": {},
   "outputs": [],
   "source": [
    "#show class sizes\n",
    "brfss_binary.groupby(['Diabetes_binary']).size()"
   ]
  },
  {
   "cell_type": "code",
   "execution_count": null,
   "metadata": {},
   "outputs": [],
   "source": [
    "#Separate the 0(No Diabetes) and 1&2(Pre-diabetes and Diabetes)\n",
    "#Get the 1s\n",
    "is1 = brfss_binary['Diabetes_binary'] == 1\n",
    "brfss_5050_1 = brfss_binary[is1]\n",
    "\n",
    "#Get the 0s\n",
    "is0 = brfss_binary['Diabetes_binary'] == 0\n",
    "brfss_5050_0 = brfss_binary[is0] \n",
    "\n",
    "#Select the 39977 random cases from the 0 (non-diabetes group). we already have 35346 cases from the diabetes risk group\n",
    "brfss_5050_0_rand1 = brfss_5050_0.take(np.random.permutation(len(brfss_5050_0))[:35346])\n",
    "\n",
    "#Append the 39977 1s to the 39977 randomly selected 0s\n",
    "brfss_5050 = brfss_5050_0_rand1.append(brfss_5050_1, ignore_index = True)"
   ]
  },
  {
   "cell_type": "code",
   "execution_count": null,
   "metadata": {},
   "outputs": [],
   "source": [
    "#Check that it worked. Now we have a dataset of 79,954 rows that is equally balanced with 50% 1 and 50% 0 for the target variable Diabetes_binary\n",
    "brfss_5050.head()"
   ]
  },
  {
   "cell_type": "code",
   "execution_count": null,
   "metadata": {},
   "outputs": [],
   "source": [
    "brfss_5050.tail()"
   ]
  },
  {
   "cell_type": "code",
   "execution_count": null,
   "metadata": {},
   "outputs": [],
   "source": [
    "#See the classes are perfectly balanced now\n",
    "brfss_5050.groupby(['Diabetes_binary']).size()"
   ]
  },
  {
   "cell_type": "markdown",
   "metadata": {},
   "source": [
    "## 6. Save binary dataset and 50-50 binary balanced dataset to csv\n",
    "These files have prediabetes added to the diabetes group. The 50-50 dataset takes it a step further and has a randomly selected even split to help beginners train their models. "
   ]
  },
  {
   "cell_type": "code",
   "execution_count": null,
   "metadata": {},
   "outputs": [],
   "source": [
    "print(f'brfss_5050={brfss_5050.shape}',f'brfss_binary={brfss_binary.shape}')"
   ]
  },
  {
   "cell_type": "code",
   "execution_count": null,
   "metadata": {},
   "outputs": [],
   "source": [
    "#Save the 50-50 balanced dataset to csv\n",
    "#************************************************************************************************\n",
    "brfss_5050.to_csv('diabetes_binary_5050split_health_indicators_BRFSS2015.csv', sep=\",\", index=False)\n",
    "#************************************************************************************************\n",
    "\n",
    "#Also save the original binary dataset to csv\n",
    "#************************************************************************************************\n",
    "brfss_binary.to_csv('diabetes_binary_health_indicators_BRFSS2015.csv', sep=\",\", index=False)\n",
    "#************************************************************************************************"
   ]
  }
 ],
 "metadata": {
  "kernelspec": {
   "display_name": "Python 3 (ipykernel)",
   "language": "python",
   "name": "python3"
  },
  "language_info": {
   "codemirror_mode": {
    "name": "ipython",
    "version": 3
   },
   "file_extension": ".py",
   "mimetype": "text/x-python",
   "name": "python",
   "nbconvert_exporter": "python",
   "pygments_lexer": "ipython3",
   "version": "3.10.9"
  }
 },
 "nbformat": 4,
 "nbformat_minor": 4
}
